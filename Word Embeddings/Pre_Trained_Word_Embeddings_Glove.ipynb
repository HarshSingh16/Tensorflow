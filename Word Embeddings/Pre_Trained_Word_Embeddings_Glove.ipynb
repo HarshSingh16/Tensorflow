{
  "nbformat": 4,
  "nbformat_minor": 0,
  "metadata": {
    "colab": {
      "name": "Pre-Trained Word Embeddings Glove.ipynb",
      "version": "0.3.2",
      "provenance": [],
      "collapsed_sections": []
    },
    "kernelspec": {
      "name": "python3",
      "display_name": "Python 3"
    },
    "accelerator": "GPU"
  },
  "cells": [
    {
      "metadata": {
        "id": "7C6uunyLi6UT",
        "colab_type": "code",
        "colab": {}
      },
      "cell_type": "code",
      "source": [
        "#Importing the necessary libraries\n",
        "\n",
        "from __future__ import print_function, division\n",
        "from future.utils import iteritems\n",
        "import numpy as np\n",
        "from sklearn.metrics.pairwise import pairwise_distances\n",
        "from scipy import spatial\n",
        "from builtins import range"
      ],
      "execution_count": 0,
      "outputs": []
    },
    {
      "metadata": {
        "id": "QxINpw4CYes6",
        "colab_type": "code",
        "colab": {
          "base_uri": "https://localhost:8080/",
          "height": 269
        },
        "outputId": "1c8d9513-2e88-48a5-ce93-246c03b07eb5"
      },
      "cell_type": "code",
      "source": [
        "#Downloading the Glove\n",
        "!wget http://nlp.stanford.edu/data/glove.6B.zip"
      ],
      "execution_count": 2,
      "outputs": [
        {
          "output_type": "stream",
          "text": [
            "--2019-03-09 21:37:06--  http://nlp.stanford.edu/data/glove.6B.zip\n",
            "Resolving nlp.stanford.edu (nlp.stanford.edu)... 171.64.67.140\n",
            "Connecting to nlp.stanford.edu (nlp.stanford.edu)|171.64.67.140|:80... connected.\n",
            "HTTP request sent, awaiting response... 302 Found\n",
            "Location: https://nlp.stanford.edu/data/glove.6B.zip [following]\n",
            "--2019-03-09 21:37:06--  https://nlp.stanford.edu/data/glove.6B.zip\n",
            "Connecting to nlp.stanford.edu (nlp.stanford.edu)|171.64.67.140|:443... connected.\n",
            "HTTP request sent, awaiting response... 200 OK\n",
            "Length: 862182613 (822M) [application/zip]\n",
            "Saving to: ‘glove.6B.zip’\n",
            "\n",
            "glove.6B.zip        100%[===================>] 822.24M  3.69MB/s    in 2m 49s  \n",
            "\n",
            "2019-03-09 21:39:56 (4.86 MB/s) - ‘glove.6B.zip’ saved [862182613/862182613]\n",
            "\n"
          ],
          "name": "stdout"
        }
      ]
    },
    {
      "metadata": {
        "id": "xmbQbBZBYjRs",
        "colab_type": "code",
        "colab": {
          "base_uri": "https://localhost:8080/",
          "height": 101
        },
        "outputId": "31561180-612e-4024-a899-926334a4d9e2"
      },
      "cell_type": "code",
      "source": [
        "#Unzipping Glove\n",
        "!unzip glove.6B.zip"
      ],
      "execution_count": 3,
      "outputs": [
        {
          "output_type": "stream",
          "text": [
            "Archive:  glove.6B.zip\n",
            "  inflating: glove.6B.50d.txt        \n",
            "  inflating: glove.6B.100d.txt       \n",
            "  inflating: glove.6B.200d.txt       \n",
            "  inflating: glove.6B.300d.txt       \n"
          ],
          "name": "stdout"
        }
      ]
    },
    {
      "metadata": {
        "id": "do7L3dL0kEIv",
        "colab_type": "code",
        "colab": {}
      },
      "cell_type": "code",
      "source": [
        "#Defining distances\n",
        "def dist1(a,b):\n",
        "  return np.lin"
      ],
      "execution_count": 0,
      "outputs": []
    },
    {
      "metadata": {
        "id": "zXFt9p1bkpAt",
        "colab_type": "code",
        "colab": {}
      },
      "cell_type": "code",
      "source": [
        "#Specifying the cosine Distance\n",
        "def dist1(a,b):\n",
        "  Distance = 1 - spatial.distance.cosine(a, b)\n",
        "  return Distance"
      ],
      "execution_count": 0,
      "outputs": []
    },
    {
      "metadata": {
        "id": "6HITk4QFkq9_",
        "colab_type": "code",
        "colab": {}
      },
      "cell_type": "code",
      "source": [
        "#Setting your distance\n",
        "dist,metric=dist1,\"cosine\""
      ],
      "execution_count": 0,
      "outputs": []
    },
    {
      "metadata": {
        "id": "-V1CrinGliTs",
        "colab_type": "code",
        "colab": {
          "base_uri": "https://localhost:8080/",
          "height": 54
        },
        "outputId": "e2d0d6d2-0744-48ec-f457-e6033ad8e40e"
      },
      "cell_type": "code",
      "source": [
        "#Defining the analogies- using the for loop\n",
        "'''def find_analogies(w1,w2,w3):\n",
        "  for w in (w1,w2,w3):\n",
        "    if w not in word2vec:\n",
        "      print(\"%s is not in word2vec\"% w)\n",
        "  \n",
        "  king=word2vec[w1]\n",
        "  man=word2vec[w2]\n",
        "  woman=word2vec[w3]\n",
        "  v0=king-man+woman\n",
        "  \n",
        "  min_dist=float(\"inf\")\n",
        "  best_word=\"\"\n",
        "  for word,v1 in iteritems(word2vec):\n",
        "    if word not in (w1,w2,w3):\n",
        "      d=dist(v0,v1)\n",
        "      if d < min_dist:\n",
        "        min_dist=d\n",
        "        best_word=word\n",
        "  print(w1, \"-\", w2 ,\"=\", v0, \"-\", w3)'''\n",
        "      \n",
        "    "
      ],
      "execution_count": 7,
      "outputs": [
        {
          "output_type": "execute_result",
          "data": {
            "text/plain": [
              "'def find_analogies(w1,w2,w3):\\n  for w in (w1,w2,w3):\\n    if w not in word2vec:\\n      print(\"%s is not in word2vec\"% w)\\n  \\n  king=word2vec[w1]\\n  man=word2vec[w2]\\n  woman=word2vec[w3]\\n  v0=king-man+woman\\n  \\n  min_dist=float(\"inf\")\\n  best_word=\"\"\\n  for word,v1 in iteritems(word2vec):\\n    if word not in (w1,w2,w3):\\n      d=dist(v0,v1)\\n      if d < min_dist:\\n        min_dist=d\\n        best_word=word\\n  print(w1, \"-\", w2 ,\"=\", v0, \"-\", w3)'"
            ]
          },
          "metadata": {
            "tags": []
          },
          "execution_count": 7
        }
      ]
    },
    {
      "metadata": {
        "id": "hNjYEKQQ5nix",
        "colab_type": "code",
        "colab": {}
      },
      "cell_type": "code",
      "source": [
        "#Defining analogies using PairDistance Scikit Learn\n",
        "def find_analogies(w1,w2,w3):\n",
        "  for w in (w1,w2,w3):\n",
        "    if w not in word2vec:\n",
        "      print(\"%s not found in dictionary\" %w)\n",
        "  king=word2vec[w1]\n",
        "  man=word2vec[w2]\n",
        "  woman=word2vec[w3]\n",
        "  v0=king-man+woman\n",
        "  distances=pairwise_distances(v0.reshape(1,D),embeddings,metric=\"cosine\").reshape(V) #first one is a the distance with just the dimenions, will compare it a matrix of V*D, and calculate distances\n",
        "  idx=distances.argsort()[0:2]#argmin returns the index of the lowest number\n",
        "  new_word=np.array(idx2word)[idx]\n",
        "  for i in new_word:\n",
        "    if i not in (w1,w2,w3):\n",
        "       print(w1,\"-\",w2,\"=\",i,\"-\",w3)"
      ],
      "execution_count": 0,
      "outputs": []
    },
    {
      "metadata": {
        "id": "OrC89U2_6LpA",
        "colab_type": "code",
        "colab": {}
      },
      "cell_type": "code",
      "source": [
        "#Finding Nearest Neighbous\n",
        "def nearest_neighbours(w,n=2):\n",
        "  v0=word2vec[w]\n",
        "  distances=pairwise_distances(v0.reshape(1,D),embeddings,metric=\"cosine\").reshape(V)\n",
        "  idx=distances.argsort()[1:n+1]#Dont want to have the same word as it will have the least distance\n",
        "  best_words=np.array(idx2words)[idx]\n",
        "  for i in best_words:\n",
        "    print(i)"
      ],
      "execution_count": 0,
      "outputs": []
    },
    {
      "metadata": {
        "id": "5bjUuQceV_rc",
        "colab_type": "code",
        "colab": {
          "base_uri": "https://localhost:8080/",
          "height": 34
        },
        "outputId": "9ff05f34-1bb1-4c05-c7a1-72de274ecdfa"
      },
      "cell_type": "code",
      "source": [
        "m=np.array([0,2,1,8,10,9])\n",
        "n=m.argsort()[3:4]\n",
        "m[n]\n"
      ],
      "execution_count": 43,
      "outputs": [
        {
          "output_type": "execute_result",
          "data": {
            "text/plain": [
              "array([8])"
            ]
          },
          "metadata": {
            "tags": []
          },
          "execution_count": 43
        }
      ]
    },
    {
      "metadata": {
        "id": "g10pzEBUYWj-",
        "colab_type": "code",
        "colab": {
          "base_uri": "https://localhost:8080/",
          "height": 50
        },
        "outputId": "985085cc-5a92-4d40-8781-de9879eb4efe"
      },
      "cell_type": "code",
      "source": [
        "# load in pre-trained word vectors\n",
        "\n",
        "print('Loading word vectors...')\n",
        "\n",
        "word2vec = {}\n",
        "\n",
        "embeddings = []\n",
        "\n",
        "idx2words = []\n",
        "\n",
        "with open('glove.6B.50d.txt', encoding='utf-8') as f:\n",
        "\n",
        "  # is just a space-separated text file in the format:\n",
        "\n",
        "  # word vec[0] vec[1] vec[2] ...\n",
        "\n",
        "  for line in f:\n",
        "\n",
        "    values = line.split()\n",
        "\n",
        "    word = values[0]\n",
        "\n",
        "    vec = np.asarray(values[1:], dtype='float32')\n",
        "\n",
        "    word2vec[word] = vec\n",
        "\n",
        "    embeddings.append(vec)\n",
        "\n",
        "    idx2words.append(word)\n",
        "\n",
        "print('Found %s word vectors.' % len(word2vec))\n",
        "\n",
        "embeddings = np.array(embedding)\n",
        "\n",
        "V, D = embeddings.shape"
      ],
      "execution_count": 25,
      "outputs": [
        {
          "output_type": "stream",
          "text": [
            "Loading word vectors...\n",
            "Found 400000 word vectors.\n"
          ],
          "name": "stdout"
        }
      ]
    },
    {
      "metadata": {
        "id": "yXdjGeVUZ7zH",
        "colab_type": "code",
        "colab": {
          "base_uri": "https://localhost:8080/",
          "height": 67
        },
        "outputId": "1b4dcfe0-7502-43a8-c945-0cd6d6edb9d5"
      },
      "cell_type": "code",
      "source": [
        "nearest_neighbours(\"deloitte\",n=3)"
      ],
      "execution_count": 101,
      "outputs": [
        {
          "output_type": "stream",
          "text": [
            "touche\n",
            "pricewaterhousecoopers\n",
            "kpmg\n"
          ],
          "name": "stdout"
        }
      ]
    },
    {
      "metadata": {
        "id": "y6U78oHrcU93",
        "colab_type": "code",
        "colab": {
          "base_uri": "https://localhost:8080/",
          "height": 67
        },
        "outputId": "582913cd-2fe0-4442-856b-140b2709c281"
      },
      "cell_type": "code",
      "source": [
        "find_analogies(\"talking\",\"talk\",\"speak\")"
      ],
      "execution_count": 104,
      "outputs": [
        {
          "output_type": "stream",
          "text": [
            "talking - talk = tell - speak\n",
            "talking - talk = speaks - speak\n",
            "talking - talk = speaking - speak\n"
          ],
          "name": "stdout"
        }
      ]
    },
    {
      "metadata": {
        "id": "CwHTkUh0mF7m",
        "colab_type": "code",
        "colab": {}
      },
      "cell_type": "code",
      "source": [
        "dictionary=\"love you\""
      ],
      "execution_count": 0,
      "outputs": []
    },
    {
      "metadata": {
        "id": "D2kKGrNfmRZt",
        "colab_type": "code",
        "colab": {
          "base_uri": "https://localhost:8080/",
          "height": 84
        },
        "outputId": "ecbe8794-a43e-445f-dc92-e1dd3ea075e0"
      },
      "cell_type": "code",
      "source": [
        "dict1={}\n",
        "for i in dictionary.split():\n",
        "  dict1[i]:nearest_neighbours(i)"
      ],
      "execution_count": 133,
      "outputs": [
        {
          "output_type": "stream",
          "text": [
            "dream\n",
            "life\n",
            "'ll\n",
            "?\n"
          ],
          "name": "stdout"
        }
      ]
    }
  ]
}